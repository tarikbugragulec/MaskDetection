{
 "cells": [
  {
   "cell_type": "code",
   "execution_count": 1,
   "id": "8f54a7a9-33b4-41dc-a6e5-7385184dcb9a",
   "metadata": {},
   "outputs": [],
   "source": [
    "import os\n",
    "import pandas as pd\n",
    "import numpy as np"
   ]
  },
  {
   "cell_type": "code",
   "execution_count": 2,
   "id": "93e2d455-1500-4b80-af94-662af7b73488",
   "metadata": {},
   "outputs": [],
   "source": [
    "path=\"dataset/\"\n",
    "df=pd.DataFrame(columns=[\"path\",\"label\"])\n",
    "files=os.listdir(path)\n",
    "for Class in files:\n",
    "    for name in os.listdir(path+Class):\n",
    "       new_row = pd.DataFrame([[os.path.join(path, Class, name), Class]], columns=[\"path\", \"label\"])\n",
    "       df = pd.concat([df, new_row], ignore_index=True)"
   ]
  },
  {
   "cell_type": "code",
   "execution_count": 3,
   "id": "40e7dbad-bae4-4733-9461-dba8c7ca7e02",
   "metadata": {},
   "outputs": [],
   "source": [
    "df.to_csv(\"Datasetcsv\")"
   ]
  },
  {
   "cell_type": "code",
   "execution_count": 4,
   "id": "31d86289-5d6d-4aa3-8e9a-3d1665a45eb9",
   "metadata": {},
   "outputs": [],
   "source": [
    "np.random.seed(42)\n",
    "df.sample(frac=1).reset_index(drop=True)\n",
    "df['label'] = df['label'].map({'with_mask': 1, 'without_mask': 0}).astype(int)"
   ]
  },
  {
   "cell_type": "code",
   "execution_count": 5,
   "id": "ee7f424b-4ba7-482e-ba02-25f6f0c8c8e4",
   "metadata": {},
   "outputs": [],
   "source": [
    "from sklearn.model_selection import train_test_split"
   ]
  },
  {
   "cell_type": "code",
   "execution_count": 6,
   "id": "66161db6-4208-4123-80e7-7fde9f298d56",
   "metadata": {},
   "outputs": [],
   "source": [
    "X_train,X_test,y_train,y_test=train_test_split(df[\"path\"],df[\"label\"],test_size=0.2,random_state=42)"
   ]
  },
  {
   "cell_type": "code",
   "execution_count": 7,
   "id": "6ec488a6-838f-48c7-9a12-bf522d9388f3",
   "metadata": {},
   "outputs": [],
   "source": [
    "import cv2 \n",
    "from tensorflow.keras.preprocessing.image import load_img, img_to_array"
   ]
  },
  {
   "cell_type": "code",
   "execution_count": 8,
   "id": "313ec24c-6790-4224-94d5-3d3cf6efa37d",
   "metadata": {},
   "outputs": [],
   "source": [
    "def load_and_prepare_images(paths, target_size=(180, 180)):\n",
    "    images = []\n",
    "    for path in paths:\n",
    "        img = load_img(path, target_size=target_size)\n",
    "        img_array = img_to_array(img) / 255.0\n",
    "        images.append(img_array)\n",
    "    return np.array(images)"
   ]
  },
  {
   "cell_type": "code",
   "execution_count": 9,
   "id": "f604e0b0-cbdd-47c2-be9f-be87478235ed",
   "metadata": {},
   "outputs": [],
   "source": [
    "X_train=load_and_prepare_images(X_train)"
   ]
  },
  {
   "cell_type": "code",
   "execution_count": 10,
   "id": "bfa688c0-951b-40c6-b031-2eaed04b5b65",
   "metadata": {},
   "outputs": [],
   "source": [
    "from tensorflow.keras.layers import Conv2D, MaxPooling2D, Flatten, Dense\n",
    "from tensorflow.keras.models import Sequential\n",
    "\n",
    "\n",
    "model = Sequential([\n",
    "    Conv2D(32, (3, 3), activation='relu', input_shape=(180, 180, 3)),\n",
    "    MaxPooling2D((2, 2)),\n",
    "    Conv2D(64, (3, 3), activation='relu'),\n",
    "    MaxPooling2D((2, 2)),\n",
    "    Conv2D(128, (3, 3), activation='relu'),\n",
    "    MaxPooling2D((2, 2)),\n",
    "    Flatten(),\n",
    "    Dense(128, activation='relu'),\n",
    "    Dense(1, activation='sigmoid')  \n",
    "])"
   ]
  },
  {
   "cell_type": "code",
   "execution_count": 11,
   "id": "138f2a21-82e2-4cc5-aa64-e53d914c073e",
   "metadata": {},
   "outputs": [],
   "source": [
    "model.compile(\n",
    "    optimizer=\"adam\",\n",
    "    loss=\"binary_crossentropy\",\n",
    "    metrics=[\"accuracy\"]\n",
    ")"
   ]
  },
  {
   "cell_type": "code",
   "execution_count": 12,
   "id": "f3c77d4a-03aa-49dd-a606-4614b12f70e7",
   "metadata": {},
   "outputs": [
    {
     "name": "stdout",
     "output_type": "stream",
     "text": [
      "Epoch 1/10\n",
      "11/11 [==============================] - 11s 737ms/step - loss: 0.8625 - accuracy: 0.5284\n",
      "Epoch 2/10\n",
      "11/11 [==============================] - 8s 747ms/step - loss: 0.4099 - accuracy: 0.8864\n",
      "Epoch 3/10\n",
      "11/11 [==============================] - 8s 714ms/step - loss: 0.2307 - accuracy: 0.9119\n",
      "Epoch 4/10\n",
      "11/11 [==============================] - 8s 766ms/step - loss: 0.1875 - accuracy: 0.9318\n",
      "Epoch 5/10\n",
      "11/11 [==============================] - 8s 736ms/step - loss: 0.1534 - accuracy: 0.9432\n",
      "Epoch 6/10\n",
      "11/11 [==============================] - 8s 778ms/step - loss: 0.0999 - accuracy: 0.9574\n",
      "Epoch 7/10\n",
      "11/11 [==============================] - 9s 856ms/step - loss: 0.1015 - accuracy: 0.9659\n",
      "Epoch 8/10\n",
      "11/11 [==============================] - 10s 935ms/step - loss: 0.0730 - accuracy: 0.9659\n",
      "Epoch 9/10\n",
      "11/11 [==============================] - 9s 853ms/step - loss: 0.0301 - accuracy: 0.9943\n",
      "Epoch 10/10\n",
      "11/11 [==============================] - 8s 756ms/step - loss: 0.0229 - accuracy: 0.9915\n"
     ]
    },
    {
     "data": {
      "text/plain": [
       "<keras.callbacks.History at 0x17c8a2bf8b0>"
      ]
     },
     "execution_count": 12,
     "metadata": {},
     "output_type": "execute_result"
    }
   ],
   "source": [
    "model.fit(X_train,y_train,epochs=10)"
   ]
  },
  {
   "cell_type": "code",
   "execution_count": 14,
   "id": "47f7abe1-bdee-40e8-b93d-2f16bad1f30e",
   "metadata": {},
   "outputs": [
    {
     "name": "stdout",
     "output_type": "stream",
     "text": [
      "3/3 [==============================] - 1s 165ms/step - loss: 0.7418 - accuracy: 0.8409\n"
     ]
    },
    {
     "data": {
      "text/plain": [
       "[0.7418405413627625, 0.8409090638160706]"
      ]
     },
     "execution_count": 14,
     "metadata": {},
     "output_type": "execute_result"
    }
   ],
   "source": [
    "model.evaluate(X_test,y_test,verbose=1)"
   ]
  }
 ],
 "metadata": {
  "kernelspec": {
   "display_name": "Python 3 (ipykernel)",
   "language": "python",
   "name": "python3"
  },
  "language_info": {
   "codemirror_mode": {
    "name": "ipython",
    "version": 3
   },
   "file_extension": ".py",
   "mimetype": "text/x-python",
   "name": "python",
   "nbconvert_exporter": "python",
   "pygments_lexer": "ipython3",
   "version": "3.10.13"
  },
  "widgets": {
   "application/vnd.jupyter.widget-state+json": {
    "state": {},
    "version_major": 2,
    "version_minor": 0
   }
  }
 },
 "nbformat": 4,
 "nbformat_minor": 5
}
